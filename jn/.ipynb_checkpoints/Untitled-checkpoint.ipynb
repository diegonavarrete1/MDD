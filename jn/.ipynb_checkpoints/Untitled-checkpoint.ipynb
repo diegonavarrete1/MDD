{
 "cells": [
  {
   "cell_type": "code",
   "execution_count": null,
   "id": "b4f5caba-3647-48e9-b418-25fc20ce4085",
   "metadata": {},
   "outputs": [],
   "source": []
  }
 ],
 "metadata": {
  "kernelspec": {
   "display_name": "Python 3 (ipykernel)",
   "language": "python",
   "name": "python3"
  },
  "language_info": {
   "codemirror_mode": {
    "name": "ipython",
    "version": 3
   },
   "file_extension": ".py",
   "mimetype": "text/x-python",
   "name": "python",
   "nbconvert_exporter": "python",
   "pygments_lexer": "ipython3",
   "version": "3.12.4"
  }
 },
 "nbformat": 4,
 "nbformat_minor": 5
}
